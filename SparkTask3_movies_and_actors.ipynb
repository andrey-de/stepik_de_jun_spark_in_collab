{
  "nbformat": 4,
  "nbformat_minor": 0,
  "metadata": {
    "colab": {
      "provenance": [],
      "authorship_tag": "ABX9TyMsF2Nh4aQnnJ0o+NzkvH+P",
      "include_colab_link": true
    },
    "kernelspec": {
      "name": "python3",
      "display_name": "Python 3"
    },
    "language_info": {
      "name": "python"
    }
  },
  "cells": [
    {
      "cell_type": "markdown",
      "metadata": {
        "id": "view-in-github",
        "colab_type": "text"
      },
      "source": [
        "<a href=\"https://colab.research.google.com/github/andrey-de/stepik_de_jun_spark_in_collab/blob/main/SparkTask3_movies_and_actors.ipynb\" target=\"_parent\"><img src=\"https://colab.research.google.com/assets/colab-badge.svg\" alt=\"Open In Colab\"/></a>"
      ]
    },
    {
      "cell_type": "code",
      "execution_count": 10,
      "metadata": {
        "id": "BbgeXB1PqzZi"
      },
      "outputs": [],
      "source": [
        "from pyspark.sql import SparkSession\n",
        "from pyspark.sql.functions import col\n",
        "from pyspark.sql.functions import sum, desc, max, min, count\n",
        "from pyspark.sql.functions import year, current_date\n",
        "from pyspark.sql.functions import year, month, avg\n",
        "\n",
        "# Create SparkSession\n",
        "spark = SparkSession.builder.appName(\"Read CSV Example\").getOrCreate()"
      ]
    },
    {
      "cell_type": "code",
      "source": [
        "# Read CSV-files\n",
        "df_actors = spark.read.csv(\"/content/sample_data/actors.csv\", header=True, inferSchema=True)\n",
        "df_movies = spark.read.csv(\"/content/sample_data/movies.csv\", header=True, inferSchema=True)\n",
        "df_movie_actors = spark.read.csv(\"/content/sample_data/movie_actors.csv\", header=True, inferSchema=True)"
      ],
      "metadata": {
        "id": "fqsv37wcrSYz"
      },
      "execution_count": 11,
      "outputs": []
    },
    {
      "cell_type": "code",
      "source": [
        "# Print schemas\n",
        "df_actors.printSchema()\n",
        "df_movies.printSchema()\n",
        "df_movie_actors.printSchema()"
      ],
      "metadata": {
        "colab": {
          "base_uri": "https://localhost:8080/"
        },
        "id": "OChW_dCouflk",
        "outputId": "9d702003-9947-4fdc-e87c-35221edb681e"
      },
      "execution_count": 12,
      "outputs": [
        {
          "output_type": "stream",
          "name": "stdout",
          "text": [
            "root\n",
            " |-- actor_id: integer (nullable = true)\n",
            " |-- name: string (nullable = true)\n",
            " |-- birth_date: date (nullable = true)\n",
            " |-- country: string (nullable = true)\n",
            "\n",
            "root\n",
            " |-- movie_id: integer (nullable = true)\n",
            " |-- title: string (nullable = true)\n",
            " |-- genre: string (nullable = true)\n",
            " |-- release_date: date (nullable = true)\n",
            " |-- budget: double (nullable = true)\n",
            "\n",
            "root\n",
            " |-- movie_id: integer (nullable = true)\n",
            " |-- actor_id: integer (nullable = true)\n",
            "\n"
          ]
        }
      ]
    },
    {
      "cell_type": "code",
      "source": [
        "# Create temp views\n",
        "df_actors.createOrReplaceTempView(\"actors\")\n",
        "df_movies.createOrReplaceTempView(\"movies\")\n",
        "df_movie_actors.createOrReplaceTempView(\"movie_actors\")"
      ],
      "metadata": {
        "id": "qBsaiWgUu9sc"
      },
      "execution_count": 13,
      "outputs": []
    },
    {
      "cell_type": "code",
      "source": [
        "spark.sql(\"SELECT * FROM actors\").show()"
      ],
      "metadata": {
        "colab": {
          "base_uri": "https://localhost:8080/"
        },
        "id": "7V1zru7ZvK2D",
        "outputId": "7a2dcf2e-6134-4413-e393-a0ec9869067d"
      },
      "execution_count": 14,
      "outputs": [
        {
          "output_type": "stream",
          "name": "stdout",
          "text": [
            "+--------+--------+----------+---------+\n",
            "|actor_id|    name|birth_date|  country|\n",
            "+--------+--------+----------+---------+\n",
            "|       1| Actor_1|1960-12-31|   Canada|\n",
            "|       2| Actor_2|1962-12-31|       UK|\n",
            "|       3| Actor_3|1964-12-31|       UK|\n",
            "|       4| Actor_4|1966-12-31|       UK|\n",
            "|       5| Actor_5|1968-12-31|    India|\n",
            "|       6| Actor_6|1970-12-31|      USA|\n",
            "|       7| Actor_7|1972-12-31|    India|\n",
            "|       8| Actor_8|1974-12-31|Australia|\n",
            "|       9| Actor_9|1976-12-31|      USA|\n",
            "|      10|Actor_10|1978-12-31|Australia|\n",
            "|      11|Actor_11|1980-12-31|      USA|\n",
            "|      12|Actor_12|1982-12-31|    India|\n",
            "|      13|Actor_13|1984-12-31|       UK|\n",
            "|      14|Actor_14|1986-12-31|   Canada|\n",
            "|      15|Actor_15|1988-12-31|       UK|\n",
            "|      16|Actor_16|1990-12-31|    India|\n",
            "|      17|Actor_17|1992-12-31|      USA|\n",
            "|      18|Actor_18|1994-12-31|       UK|\n",
            "|      19|Actor_19|1996-12-31|    India|\n",
            "|      20|Actor_20|1998-12-31|Australia|\n",
            "+--------+--------+----------+---------+\n",
            "only showing top 20 rows\n",
            "\n"
          ]
        }
      ]
    },
    {
      "cell_type": "code",
      "source": [
        "spark.sql(\"SELECT * FROM movies\").show()"
      ],
      "metadata": {
        "colab": {
          "base_uri": "https://localhost:8080/"
        },
        "id": "Aq43ObOWvZZp",
        "outputId": "6c82a03f-4b5d-4203-cf20-04c96decf5d5"
      },
      "execution_count": 15,
      "outputs": [
        {
          "output_type": "stream",
          "name": "stdout",
          "text": [
            "+--------+--------+------+------------+-------------+\n",
            "|movie_id|   title| genre|release_date|       budget|\n",
            "+--------+--------+------+------------+-------------+\n",
            "|       1| Movie_1|Horror|  2000-12-31|8.660058311E7|\n",
            "|       2| Movie_2|Comedy|  2001-12-31|1.274740083E7|\n",
            "|       3| Movie_3|Action|  2002-12-31| 1.80157747E7|\n",
            "|       4| Movie_4| Drama|  2003-12-31|4.817612061E7|\n",
            "|       5| Movie_5| Drama|  2004-12-31| 7.40501611E7|\n",
            "|       6| Movie_6|Action|  2005-12-31|1.476121831E7|\n",
            "|       7| Movie_7| Drama|  2006-12-31|4.456703643E7|\n",
            "|       8| Movie_8| Drama|  2007-12-31|4.880227617E7|\n",
            "|       9| Movie_9|Action|  2008-12-31|2.201627853E7|\n",
            "|      10|Movie_10|Action|  2009-12-31|1.244027929E7|\n",
            "|      11|Movie_11|Comedy|  2010-12-31|8.380567138E7|\n",
            "|      12|Movie_12|Comedy|  2011-12-31|5.074409933E7|\n",
            "|      13|Movie_13|Action|  2012-12-31|   2423742.36|\n",
            "|      14|Movie_14|Sci-Fi|  2013-12-31|8.049514883E7|\n",
            "|      15|Movie_15| Drama|  2014-12-31|9.809858674E7|\n",
            "|      16|Movie_16|Comedy|  2015-12-31|6.098669335E7|\n",
            "|      17|Movie_17| Drama|  2016-12-31|5.086713032E7|\n",
            "|      18|Movie_18|Horror|  2017-12-31|8.796317044E7|\n",
            "|      19|Movie_19|Action|  2018-12-31|9.529916218E7|\n",
            "|      20|Movie_20|Sci-Fi|  2019-12-31|7.569915467E7|\n",
            "+--------+--------+------+------------+-------------+\n",
            "\n"
          ]
        }
      ]
    },
    {
      "cell_type": "code",
      "source": [
        "#result 4.1\n",
        "spark.sql(\"\"\"\n",
        "  SELECT genre, COUNT(*) AS cnt\n",
        "  FROM movies\n",
        "  GROUP BY genre\n",
        "  ORDER BY cnt DESC\n",
        "  LIMIT 5\n",
        "\"\"\").show()"
      ],
      "metadata": {
        "colab": {
          "base_uri": "https://localhost:8080/"
        },
        "id": "leGQI3F8vnTC",
        "outputId": "9aa97ca8-4998-4490-9699-2996ea0ee962"
      },
      "execution_count": 18,
      "outputs": [
        {
          "output_type": "stream",
          "name": "stdout",
          "text": [
            "+------+---+\n",
            "| genre|cnt|\n",
            "+------+---+\n",
            "| Drama|  6|\n",
            "|Action|  6|\n",
            "|Comedy|  4|\n",
            "|Horror|  2|\n",
            "|Sci-Fi|  2|\n",
            "+------+---+\n",
            "\n"
          ]
        }
      ]
    },
    {
      "cell_type": "code",
      "source": [
        "#result 4.2\n",
        "spark.sql(\"\"\"\n",
        "  WITH movies_cnt AS (\n",
        "    SELECT actor_id, COUNT(*) AS num_movies\n",
        "    FROM movie_actors\n",
        "    GROUP BY actor_id\n",
        "    ORDER BY num_movies DESC\n",
        "    LIMIT 1\n",
        "    )\n",
        "\n",
        "  SELECT name, num_movies\n",
        "  FROM movies_cnt\n",
        "  LEFT JOIN actors ON movies_cnt.actor_id = actors.actor_id\n",
        "\"\"\").show()"
      ],
      "metadata": {
        "colab": {
          "base_uri": "https://localhost:8080/"
        },
        "id": "GtsYjC7Bv9An",
        "outputId": "f6927403-2443-4a9f-871f-b5f117810bb1"
      },
      "execution_count": 20,
      "outputs": [
        {
          "output_type": "stream",
          "name": "stdout",
          "text": [
            "+--------+----------+\n",
            "|    name|num_movies|\n",
            "+--------+----------+\n",
            "|Actor_17|         5|\n",
            "+--------+----------+\n",
            "\n"
          ]
        }
      ]
    },
    {
      "cell_type": "code",
      "source": [
        "#result 4.3\n",
        "spark.sql(\"\"\"\n",
        "  SELECT genre, AVG(budget) AS avg_budget\n",
        "  FROM movies\n",
        "  GROUP BY genre\n",
        "  ORDER BY avg_budget DESC\n",
        "\"\"\").show()"
      ],
      "metadata": {
        "colab": {
          "base_uri": "https://localhost:8080/"
        },
        "id": "5qm05NDUxdyE",
        "outputId": "53a595ce-209c-4772-fef5-9f6088940f11"
      },
      "execution_count": 21,
      "outputs": [
        {
          "output_type": "stream",
          "name": "stdout",
          "text": [
            "+------+--------------------+\n",
            "| genre|          avg_budget|\n",
            "+------+--------------------+\n",
            "|Horror|      8.7281876775E7|\n",
            "|Sci-Fi|       7.809715175E7|\n",
            "| Drama| 6.076021856166667E7|\n",
            "|Comedy|     5.20709662225E7|\n",
            "|Action|2.7492742561666667E7|\n",
            "+------+--------------------+\n",
            "\n"
          ]
        }
      ]
    },
    {
      "cell_type": "code",
      "source": [
        "#result 4.3\n",
        "spark.sql(\"\"\"\n",
        "  WITH actors_cnt AS (\n",
        "    SELECT movie_id, country, COUNT(*) AS num_actors\n",
        "    FROM movie_actors\n",
        "    LEFT JOIN actors ON movie_actors.actor_id = actors.actor_id\n",
        "    GROUP BY movie_id, country\n",
        "    HAVING num_actors > 1\n",
        "    )\n",
        "\n",
        "  SELECT title, country, num_actors\n",
        "  FROM actors_cnt\n",
        "  LEFT JOIN movies ON actors_cnt.movie_id = movies.movie_id\n",
        "  ORDER BY title, country, num_actors\n",
        "\"\"\").show()"
      ],
      "metadata": {
        "colab": {
          "base_uri": "https://localhost:8080/"
        },
        "id": "xf0M7Aryxx9q",
        "outputId": "267876a2-9001-4ccb-efdd-3aaf54a47454"
      },
      "execution_count": 24,
      "outputs": [
        {
          "output_type": "stream",
          "name": "stdout",
          "text": [
            "+--------+---------+----------+\n",
            "|   title|  country|num_actors|\n",
            "+--------+---------+----------+\n",
            "| Movie_1|    India|         3|\n",
            "|Movie_10|       UK|         2|\n",
            "|Movie_10|      USA|         2|\n",
            "|Movie_15|    India|         2|\n",
            "|Movie_18|Australia|         2|\n",
            "| Movie_2|      USA|         2|\n",
            "| Movie_3|      USA|         2|\n",
            "| Movie_7|    India|         2|\n",
            "| Movie_7|      USA|         2|\n",
            "+--------+---------+----------+\n",
            "\n"
          ]
        }
      ]
    },
    {
      "cell_type": "code",
      "source": [
        "spark.stop()"
      ],
      "metadata": {
        "id": "dBB7AqDCy1xf"
      },
      "execution_count": 25,
      "outputs": []
    }
  ]
}