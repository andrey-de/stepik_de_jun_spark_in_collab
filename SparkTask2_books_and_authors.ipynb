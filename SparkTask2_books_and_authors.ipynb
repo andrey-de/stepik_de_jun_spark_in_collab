{
  "nbformat": 4,
  "nbformat_minor": 0,
  "metadata": {
    "colab": {
      "provenance": [],
      "authorship_tag": "ABX9TyP0ibRyLQ5pHY/5zkH+eEGP",
      "include_colab_link": true
    },
    "kernelspec": {
      "name": "python3",
      "display_name": "Python 3"
    },
    "language_info": {
      "name": "python"
    }
  },
  "cells": [
    {
      "cell_type": "markdown",
      "metadata": {
        "id": "view-in-github",
        "colab_type": "text"
      },
      "source": [
        "<a href=\"https://colab.research.google.com/github/andrey-de/stepik_de_jun_spark_in_collab/blob/main/SparkTask2_books_and_authors.ipynb\" target=\"_parent\"><img src=\"https://colab.research.google.com/assets/colab-badge.svg\" alt=\"Open In Colab\"/></a>"
      ]
    },
    {
      "cell_type": "code",
      "execution_count": 12,
      "metadata": {
        "id": "HcW5uFiXh_a7"
      },
      "outputs": [],
      "source": [
        "from pyspark.sql import SparkSession\n",
        "from pyspark.sql.functions import col\n",
        "from pyspark.sql.functions import sum, desc, max, min, count\n",
        "from pyspark.sql.functions import year, current_date\n",
        "from pyspark.sql.functions import year, month, avg\n",
        "\n",
        "# Создание SparkSession\n",
        "spark = SparkSession.builder.appName(\"Read CSV Example\").getOrCreate()"
      ]
    },
    {
      "cell_type": "code",
      "source": [
        "# Чтение CSV-файла\n",
        "df_authors = spark.read.csv(\"/content/sample_data/authors.csv\", header=True, inferSchema=True)\n",
        "df_books = spark.read.csv(\"/content/sample_data/books.csv\", header=True, inferSchema=True)"
      ],
      "metadata": {
        "id": "LzgVrymGisse"
      },
      "execution_count": 13,
      "outputs": []
    },
    {
      "cell_type": "code",
      "source": [
        "# Печать схемы DataFrame\n",
        "df_authors.printSchema()\n",
        "df_books.printSchema()"
      ],
      "metadata": {
        "colab": {
          "base_uri": "https://localhost:8080/"
        },
        "id": "u9hUDuD0i8Uk",
        "outputId": "675e1b43-bb39-4537-8b12-3a92647e201f"
      },
      "execution_count": 14,
      "outputs": [
        {
          "output_type": "stream",
          "name": "stdout",
          "text": [
            "root\n",
            " |-- author_id: integer (nullable = true)\n",
            " |-- name: string (nullable = true)\n",
            " |-- birth_date: date (nullable = true)\n",
            " |-- country: string (nullable = true)\n",
            "\n",
            "root\n",
            " |-- book_id: integer (nullable = true)\n",
            " |-- title: string (nullable = true)\n",
            " |-- author_id: integer (nullable = true)\n",
            " |-- genre: string (nullable = true)\n",
            " |-- price: double (nullable = true)\n",
            " |-- publish_date: date (nullable = true)\n",
            "\n"
          ]
        }
      ]
    },
    {
      "cell_type": "code",
      "source": [
        "df_join = df_authors.join(df_books, on=\"author_id\", how=\"left\")\n",
        "df_join.printSchema()"
      ],
      "metadata": {
        "colab": {
          "base_uri": "https://localhost:8080/"
        },
        "id": "Ay1ng5sojT8E",
        "outputId": "5f7fca86-96df-476d-ca5a-32d385a19d2b"
      },
      "execution_count": 15,
      "outputs": [
        {
          "output_type": "stream",
          "name": "stdout",
          "text": [
            "root\n",
            " |-- author_id: integer (nullable = true)\n",
            " |-- name: string (nullable = true)\n",
            " |-- birth_date: date (nullable = true)\n",
            " |-- country: string (nullable = true)\n",
            " |-- book_id: integer (nullable = true)\n",
            " |-- title: string (nullable = true)\n",
            " |-- genre: string (nullable = true)\n",
            " |-- price: double (nullable = true)\n",
            " |-- publish_date: date (nullable = true)\n",
            "\n"
          ]
        }
      ]
    },
    {
      "cell_type": "code",
      "source": [
        "#result 3.1\n",
        "df_res1 = df_join.select(\"author_id\", \"name\", \"price\").groupBy(\"author_id\").agg(max(\"name\"), sum(\"price\").alias(\"total_revenue\"))\n",
        "df_res1.orderBy(desc(\"total_revenue\")).show(5)"
      ],
      "metadata": {
        "colab": {
          "base_uri": "https://localhost:8080/"
        },
        "id": "LtGAD6f3j0VN",
        "outputId": "0b566744-4963-4bda-eb11-3421baca79a9"
      },
      "execution_count": 16,
      "outputs": [
        {
          "output_type": "stream",
          "name": "stdout",
          "text": [
            "+---------+---------+------------------+\n",
            "|author_id|max(name)|     total_revenue|\n",
            "+---------+---------+------------------+\n",
            "|        2| Author_2|            231.97|\n",
            "|        7| Author_7|            132.66|\n",
            "|        1| Author_1|111.86000000000001|\n",
            "|        8| Author_8|            107.16|\n",
            "|        5| Author_5|             88.83|\n",
            "+---------+---------+------------------+\n",
            "only showing top 5 rows\n",
            "\n"
          ]
        }
      ]
    },
    {
      "cell_type": "code",
      "source": [
        "#result 3.2\n",
        "df_res2 = df_join.select(\"genre\").filter(\"genre IS NOT NULL\").groupBy(\"genre\").agg(count(\"genre\").alias(\"count\"))\n",
        "df_res2.orderBy(desc(\"count\")).show(10)"
      ],
      "metadata": {
        "colab": {
          "base_uri": "https://localhost:8080/"
        },
        "id": "w1cVXn9WlmdI",
        "outputId": "f494c8ee-019e-4747-bb38-6c40649aa48e"
      },
      "execution_count": 18,
      "outputs": [
        {
          "output_type": "stream",
          "name": "stdout",
          "text": [
            "+-----------+-----+\n",
            "|      genre|count|\n",
            "+-----------+-----+\n",
            "|Non-Fiction|    9|\n",
            "|    Science|    3|\n",
            "|    Fiction|    3|\n",
            "|    Fantasy|    3|\n",
            "|    Mystery|    2|\n",
            "+-----------+-----+\n",
            "\n"
          ]
        }
      ]
    },
    {
      "cell_type": "code",
      "source": [
        "#result 3.3\n",
        "df_res3 = df_join.select(\"author_id\", \"name\", \"price\").filter(\"price IS NOT NULL\").groupBy(\"author_id\").agg(max(\"name\").alias(\"name\"), avg(\"price\").alias(\"average_price\"))\n",
        "df_res3.orderBy(desc(\"average_price\")).show(15)"
      ],
      "metadata": {
        "colab": {
          "base_uri": "https://localhost:8080/"
        },
        "id": "WeaLyoXjmNpN",
        "outputId": "4a36f61d-cb6b-4ae6-cae8-1d49e87c5516"
      },
      "execution_count": 24,
      "outputs": [
        {
          "output_type": "stream",
          "name": "stdout",
          "text": [
            "+---------+---------+-----------------+\n",
            "|author_id|     name|    average_price|\n",
            "+---------+---------+-----------------+\n",
            "|        5| Author_5|            88.83|\n",
            "|        4| Author_4|             83.7|\n",
            "|        2| Author_2|          57.9925|\n",
            "|        9| Author_9|            46.31|\n",
            "|        7| Author_7|            44.22|\n",
            "|        6| Author_6|           43.965|\n",
            "|        1| Author_1|37.28666666666667|\n",
            "|        8| Author_8|            35.72|\n",
            "|       10|Author_10|           21.165|\n",
            "+---------+---------+-----------------+\n",
            "\n"
          ]
        }
      ]
    },
    {
      "cell_type": "code",
      "source": [
        "#result 3.4\n",
        "df_res4 = df_join.select(\"author_id\", \"name\", \"book_id\", \"title\", \"genre\", \"price\", \"publish_date\").filter(\"publish_date >= '2000-01-01'\")\n",
        "df_res4.orderBy(desc(\"price\")).show(25)"
      ],
      "metadata": {
        "colab": {
          "base_uri": "https://localhost:8080/"
        },
        "id": "_LiF-nS6m5Uf",
        "outputId": "469278da-01a6-44d7-ce20-5aaf9bfbc6d4"
      },
      "execution_count": 27,
      "outputs": [
        {
          "output_type": "stream",
          "name": "stdout",
          "text": [
            "+---------+---------+-------+-------+-----------+-----+------------+\n",
            "|author_id|     name|book_id|  title|      genre|price|publish_date|\n",
            "+---------+---------+-------+-------+-----------+-----+------------+\n",
            "|        7| Author_7|     20|Book_20|    Mystery|91.48|  2018-12-31|\n",
            "|        5| Author_5|     19|Book_19|    Science|88.83|  2016-12-31|\n",
            "|        8| Author_8|     15|Book_15|    Fantasy| 60.0|  2008-12-31|\n",
            "|        6| Author_6|     17|Book_17|    Fantasy|47.57|  2012-12-31|\n",
            "|        1| Author_1|     18|Book_18|Non-Fiction|43.92|  2014-12-31|\n",
            "|        2| Author_2|     16|Book_16|    Fiction|36.22|  2010-12-31|\n",
            "|       10|Author_10|     11|Book_11|Non-Fiction| 31.7|  2000-12-31|\n",
            "|        8| Author_8|     12|Book_12|Non-Fiction|31.02|  2002-12-31|\n",
            "|        1| Author_1|     14|Book_14|    Fiction|26.84|  2006-12-31|\n",
            "|        8| Author_8|     13|Book_13|Non-Fiction|16.14|  2004-12-31|\n",
            "+---------+---------+-------+-------+-----------+-----+------------+\n",
            "\n"
          ]
        }
      ]
    }
  ]
}