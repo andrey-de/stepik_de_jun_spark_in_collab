{
  "nbformat": 4,
  "nbformat_minor": 0,
  "metadata": {
    "colab": {
      "provenance": [],
      "authorship_tag": "ABX9TyOWSVLtU2lRufP/g8RuPmQD",
      "include_colab_link": true
    },
    "kernelspec": {
      "name": "python3",
      "display_name": "Python 3"
    },
    "language_info": {
      "name": "python"
    }
  },
  "cells": [
    {
      "cell_type": "markdown",
      "metadata": {
        "id": "view-in-github",
        "colab_type": "text"
      },
      "source": [
        "<a href=\"https://colab.research.google.com/github/andrey-de/stepik_de_jun_spark_in_collab/blob/main/SparkTaskFinal.ipynb\" target=\"_parent\"><img src=\"https://colab.research.google.com/assets/colab-badge.svg\" alt=\"Open In Colab\"/></a>"
      ]
    },
    {
      "cell_type": "code",
      "source": [
        "!pip install faker"
      ],
      "metadata": {
        "colab": {
          "base_uri": "https://localhost:8080/"
        },
        "id": "RpftBxroz_aR",
        "outputId": "d3f49f47-f01a-45e5-fa7c-8aa1bd6c2627"
      },
      "execution_count": 1,
      "outputs": [
        {
          "output_type": "stream",
          "name": "stdout",
          "text": [
            "Collecting faker\n",
            "  Downloading faker-37.5.3-py3-none-any.whl.metadata (15 kB)\n",
            "Requirement already satisfied: tzdata in /usr/local/lib/python3.11/dist-packages (from faker) (2025.2)\n",
            "Downloading faker-37.5.3-py3-none-any.whl (1.9 MB)\n",
            "\u001b[?25l   \u001b[90m━━━━━━━━━━━━━━━━━━━━━━━━━━━━━━━━━━━━━━━━\u001b[0m \u001b[32m0.0/1.9 MB\u001b[0m \u001b[31m?\u001b[0m eta \u001b[36m-:--:--\u001b[0m\r\u001b[2K   \u001b[90m━━━━━━━━━━━━━━━━━━━━━━━━━━━━━━━━━━━━━━━━\u001b[0m \u001b[32m1.9/1.9 MB\u001b[0m \u001b[31m64.6 MB/s\u001b[0m eta \u001b[36m0:00:00\u001b[0m\n",
            "\u001b[?25hInstalling collected packages: faker\n",
            "Successfully installed faker-37.5.3\n"
          ]
        }
      ]
    },
    {
      "cell_type": "code",
      "execution_count": 20,
      "metadata": {
        "id": "32hZ9wlGznKa"
      },
      "outputs": [],
      "source": [
        "import csv\n",
        "from faker import Faker\n",
        "import random\n",
        "\n",
        "from pyspark.sql import SparkSession\n",
        "from pyspark.sql.functions import col, to_date\n",
        "from pyspark.sql.functions import sum, desc, max, min, count\n",
        "from pyspark.sql.functions import year, month, avg"
      ]
    },
    {
      "cell_type": "code",
      "source": [
        "fake = Faker()\n",
        "\n",
        "num_records = 100000\n",
        "\n",
        "http_methods = ['GET', 'POST', 'PUT', 'DELETE']\n",
        "response_codes = [200, 301, 404, 500]\n",
        "\n",
        "file_path = \"/content/sample_data/web_server_logs.csv\"\n",
        "\n",
        "with open(file_path, mode='w', newline='') as file:\n",
        "    writer = csv.writer(file)\n",
        "    writer.writerow(['ip', 'timestamp', 'method', 'url', 'response_code', 'response_size'])\n",
        "\n",
        "    for _ in range(num_records):\n",
        "        ip = fake.ipv4()\n",
        "        timestamp = fake.date_time_this_year().isoformat()\n",
        "        method = random.choice(http_methods)\n",
        "        url = fake.uri_path()\n",
        "        response_code = random.choice(response_codes)\n",
        "        response_size = random.randint(100, 10000)\n",
        "\n",
        "        writer.writerow([ip, timestamp, method, url, response_code, response_size])\n",
        "\n",
        "print(f\"Сгенерировано {num_records} записей и сохранено в {file_path}\")"
      ],
      "metadata": {
        "colab": {
          "base_uri": "https://localhost:8080/"
        },
        "id": "QuwSBzizz9wJ",
        "outputId": "311871c0-1566-46f3-e1d3-2e9c2ca224ee"
      },
      "execution_count": 3,
      "outputs": [
        {
          "output_type": "stream",
          "name": "stdout",
          "text": [
            "Сгенерировано 100000 записей и сохранено в /content/sample_data/web_server_logs.csv\n"
          ]
        }
      ]
    },
    {
      "cell_type": "code",
      "source": [
        "# Create SparkSession\n",
        "spark = SparkSession.builder.appName(\"WebServerLogs\").getOrCreate()"
      ],
      "metadata": {
        "id": "ZaB8UVd1P7Wn"
      },
      "execution_count": 6,
      "outputs": []
    },
    {
      "cell_type": "code",
      "source": [
        "# Read CSV-files\n",
        "df = spark.read.csv(\"/content/sample_data/web_server_logs.csv\", header=True, inferSchema=True)"
      ],
      "metadata": {
        "id": "3sYk54vRPns0"
      },
      "execution_count": 7,
      "outputs": []
    },
    {
      "cell_type": "code",
      "source": [
        "# Print schemas\n",
        "df.printSchema()"
      ],
      "metadata": {
        "colab": {
          "base_uri": "https://localhost:8080/"
        },
        "id": "1agC9Jy5QI_R",
        "outputId": "83a43c7d-be68-4110-9479-ed603a970172"
      },
      "execution_count": 9,
      "outputs": [
        {
          "output_type": "stream",
          "name": "stdout",
          "text": [
            "root\n",
            " |-- ip: string (nullable = true)\n",
            " |-- timestamp: timestamp (nullable = true)\n",
            " |-- method: string (nullable = true)\n",
            " |-- url: string (nullable = true)\n",
            " |-- response_code: integer (nullable = true)\n",
            " |-- response_size: integer (nullable = true)\n",
            "\n"
          ]
        }
      ]
    },
    {
      "cell_type": "code",
      "source": [
        "#result 1\n",
        "df_res1 = df.select(\"ip\").groupBy(\"ip\").agg(count(\"ip\").alias(\"request_count\"))\n",
        "print(\"Top 10 active IP addresses:\")\n",
        "df_res1.orderBy(desc(\"request_count\")).show(10)"
      ],
      "metadata": {
        "colab": {
          "base_uri": "https://localhost:8080/"
        },
        "id": "NzeGHMOSQbmT",
        "outputId": "ff12decf-b98b-497e-ef55-f93cc6f076ae"
      },
      "execution_count": 28,
      "outputs": [
        {
          "output_type": "stream",
          "name": "stdout",
          "text": [
            "Top 10 active IP addresses:\n",
            "+--------------+-------------+\n",
            "|            ip|request_count|\n",
            "+--------------+-------------+\n",
            "| 25.119.58.204|            2|\n",
            "| 193.65.83.104|            2|\n",
            "|99.218.136.185|            1|\n",
            "|  78.119.214.6|            1|\n",
            "| 133.52.61.164|            1|\n",
            "| 214.174.73.79|            1|\n",
            "|  183.3.248.91|            1|\n",
            "|194.60.158.181|            1|\n",
            "|44.239.105.197|            1|\n",
            "|209.86.206.217|            1|\n",
            "+--------------+-------------+\n",
            "only showing top 10 rows\n",
            "\n"
          ]
        }
      ]
    },
    {
      "cell_type": "code",
      "source": [
        "#result 2\n",
        "df_res2 = df.select(\"method\").groupBy(\"method\").agg(count(\"method\").alias(\"method_count\"))\n",
        "print(\"Request count by HTTP method:\")\n",
        "df_res2.orderBy(desc(\"method_count\")).show(10)"
      ],
      "metadata": {
        "colab": {
          "base_uri": "https://localhost:8080/"
        },
        "id": "-Y2RJ9U7RM0s",
        "outputId": "92a45e32-125d-4ea6-b9e5-53fe7d2a2be3"
      },
      "execution_count": 29,
      "outputs": [
        {
          "output_type": "stream",
          "name": "stdout",
          "text": [
            "Request count by HTTP method:\n",
            "+------+------------+\n",
            "|method|method_count|\n",
            "+------+------------+\n",
            "|  POST|       25063|\n",
            "|   GET|       25060|\n",
            "|   PUT|       25010|\n",
            "|DELETE|       24867|\n",
            "+------+------------+\n",
            "\n"
          ]
        }
      ]
    },
    {
      "cell_type": "code",
      "source": [
        "#result 3\n",
        "df_res3 = df.filter(\"response_code = 404\")\n",
        "print(f'Number of 404 response codes: {df_res3.count()}')\n"
      ],
      "metadata": {
        "colab": {
          "base_uri": "https://localhost:8080/"
        },
        "id": "1Djer7maRzQo",
        "outputId": "066664e2-081f-4d20-c3b5-a63a25cb691f"
      },
      "execution_count": 23,
      "outputs": [
        {
          "output_type": "stream",
          "name": "stdout",
          "text": [
            "Number of 404 response codes: 24994\n"
          ]
        }
      ]
    },
    {
      "cell_type": "code",
      "source": [
        "#result 4\n",
        "df_res4 = df.withColumn(\"date\", to_date(\"timestamp\")).select(\"date\", \"response_size\").groupBy(\"date\").agg(sum(\"response_size\").alias(\"total_response_size\"))\n",
        "print(\"Total response size by day:\")\n",
        "df_res4.orderBy((\"date\")).show(25)"
      ],
      "metadata": {
        "colab": {
          "base_uri": "https://localhost:8080/"
        },
        "id": "rbw6ULJtS7M1",
        "outputId": "96204687-364b-4049-e232-5553f16e4aac"
      },
      "execution_count": 30,
      "outputs": [
        {
          "output_type": "stream",
          "name": "stdout",
          "text": [
            "Total response size by day:\n",
            "+----------+-------------------+\n",
            "|      date|total_response_size|\n",
            "+----------+-------------------+\n",
            "|2025-01-01|            2475782|\n",
            "|2025-01-02|            2338529|\n",
            "|2025-01-03|            2397206|\n",
            "|2025-01-04|            2100137|\n",
            "|2025-01-05|            2382718|\n",
            "|2025-01-06|            2162305|\n",
            "|2025-01-07|            2323693|\n",
            "|2025-01-08|            2103839|\n",
            "|2025-01-09|            2235231|\n",
            "|2025-01-10|            2699383|\n",
            "|2025-01-11|            2346570|\n",
            "|2025-01-12|            2379490|\n",
            "|2025-01-13|            2264299|\n",
            "|2025-01-14|            2180146|\n",
            "|2025-01-15|            2333613|\n",
            "|2025-01-16|            2322633|\n",
            "|2025-01-17|            2147212|\n",
            "|2025-01-18|            2265839|\n",
            "|2025-01-19|            2371105|\n",
            "|2025-01-20|            2337550|\n",
            "|2025-01-21|            2424899|\n",
            "|2025-01-22|            2217645|\n",
            "|2025-01-23|            2313095|\n",
            "|2025-01-24|            2331356|\n",
            "|2025-01-25|            2462046|\n",
            "+----------+-------------------+\n",
            "only showing top 25 rows\n",
            "\n"
          ]
        }
      ]
    },
    {
      "cell_type": "code",
      "source": [
        "spark.stop()"
      ],
      "metadata": {
        "id": "6_2E6YZ4UGpL"
      },
      "execution_count": 21,
      "outputs": []
    }
  ]
}