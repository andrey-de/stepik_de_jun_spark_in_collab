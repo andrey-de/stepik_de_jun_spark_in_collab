{
  "nbformat": 4,
  "nbformat_minor": 0,
  "metadata": {
    "colab": {
      "provenance": [],
      "authorship_tag": "ABX9TyPyBWgntDROGtOzPmP2Tyb0",
      "include_colab_link": true
    },
    "kernelspec": {
      "name": "python3",
      "display_name": "Python 3"
    },
    "language_info": {
      "name": "python"
    }
  },
  "cells": [
    {
      "cell_type": "markdown",
      "metadata": {
        "id": "view-in-github",
        "colab_type": "text"
      },
      "source": [
        "<a href=\"https://colab.research.google.com/github/andrey-de/stepik_de_jun_spark_in_collab/blob/main/SparkTask1_weather.ipynb\" target=\"_parent\"><img src=\"https://colab.research.google.com/assets/colab-badge.svg\" alt=\"Open In Colab\"/></a>"
      ]
    },
    {
      "cell_type": "code",
      "source": [
        "from pyspark.sql import SparkSession\n",
        "from pyspark.sql.functions import col\n",
        "from pyspark.sql.functions import sum, desc\n",
        "from pyspark.sql.functions import year, current_date\n",
        "from pyspark.sql.functions import year, month, avg\n",
        "\n",
        "# Создание SparkSession\n",
        "spark = SparkSession.builder.appName(\"Read CSV Example\").getOrCreate()"
      ],
      "metadata": {
        "id": "PuAqfkoMacbN"
      },
      "execution_count": 13,
      "outputs": []
    },
    {
      "cell_type": "code",
      "source": [
        "# Чтение CSV-файла\n",
        "df = spark.read.csv(\"/content/sample_data/weather_data.csv\", header=True, inferSchema=True)"
      ],
      "metadata": {
        "id": "r06OxdB6ahTV"
      },
      "execution_count": 14,
      "outputs": []
    },
    {
      "cell_type": "code",
      "source": [
        "# Печать схемы DataFrame\n",
        "df.printSchema()"
      ],
      "metadata": {
        "colab": {
          "base_uri": "https://localhost:8080/"
        },
        "id": "-zFvze2lamIj",
        "outputId": "034d3287-45ab-4dd3-bcc6-53d52d993256"
      },
      "execution_count": 15,
      "outputs": [
        {
          "output_type": "stream",
          "name": "stdout",
          "text": [
            "root\n",
            " |-- station_id: string (nullable = true)\n",
            " |-- date: date (nullable = true)\n",
            " |-- temperature: double (nullable = true)\n",
            " |-- precipitation: double (nullable = true)\n",
            " |-- wind_speed: double (nullable = true)\n",
            "\n"
          ]
        }
      ]
    },
    {
      "cell_type": "code",
      "source": [
        "# Показ первых 5 строк\n",
        "df.show(15)"
      ],
      "metadata": {
        "id": "4mPO_0xLasV6",
        "outputId": "6d857cf2-5a5d-4681-b54d-c1c2f5c142f1",
        "colab": {
          "base_uri": "https://localhost:8080/"
        }
      },
      "execution_count": 16,
      "outputs": [
        {
          "output_type": "stream",
          "name": "stdout",
          "text": [
            "+----------+----------+------------------+------------------+-------------------+\n",
            "|station_id|      date|       temperature|     precipitation|         wind_speed|\n",
            "+----------+----------+------------------+------------------+-------------------+\n",
            "| station_7|2022-06-28|-6.751842212861652| 23.67004407474563|  5.458999894629757|\n",
            "| station_4|2020-04-07| -9.57484426026233|2.9858244485444665|  6.828505392085966|\n",
            "| station_8|2018-12-22| 19.34342035369938| 33.58211407730149|  8.975576079892296|\n",
            "| station_5|2021-09-09|30.880953114964086|29.110437988411558|  18.26465360842913|\n",
            "| station_7|2023-02-07|23.459048180599673|49.510444679381074|  3.787868357696922|\n",
            "|station_10|2018-05-07| 27.52561802563259|11.957938889112151|0.10053105219606229|\n",
            "| station_3|2019-08-27| 4.287905745111988|26.536867764341793|  1.201928207563403|\n",
            "| station_7|2023-04-13|19.244547722319886|32.547866755903634| 18.095326833602357|\n",
            "| station_8|2020-10-10|1.2541744266864718| 32.22955873711718| 12.950329296867263|\n",
            "| station_5|2018-02-20|  11.5302773181184|28.064677147420134|  5.460812386556135|\n",
            "| station_4|2021-12-01|  8.89809079209174| 38.84640051636127|  3.543850020223822|\n",
            "| station_8|2022-11-28|-9.386771291368737|10.249060476340821|  5.885334732742287|\n",
            "| station_8|2022-06-25|  3.22472562013785| 36.28136001372079|  2.295938545025602|\n",
            "| station_3|2022-07-04| 37.82933652894106| 30.98672857165446|  18.83065820568882|\n",
            "| station_6|2021-04-20|-5.085184537103476| 44.80375558972867| 15.684123487305337|\n",
            "+----------+----------+------------------+------------------+-------------------+\n",
            "only showing top 15 rows\n",
            "\n"
          ]
        }
      ]
    },
    {
      "cell_type": "code",
      "source": [
        "df_filter = df.filter(col(\"wind_speed\").isNull())\n",
        "df_filter.show(15)"
      ],
      "metadata": {
        "colab": {
          "base_uri": "https://localhost:8080/"
        },
        "id": "A8Ipsh5gfuMc",
        "outputId": "5211c38a-6de4-473a-8694-9821b6148c6a"
      },
      "execution_count": 17,
      "outputs": [
        {
          "output_type": "stream",
          "name": "stdout",
          "text": [
            "+----------+----+-----------+-------------+----------+\n",
            "|station_id|date|temperature|precipitation|wind_speed|\n",
            "+----------+----+-----------+-------------+----------+\n",
            "+----------+----+-----------+-------------+----------+\n",
            "\n"
          ]
        }
      ]
    },
    {
      "cell_type": "code",
      "source": [
        "df.orderBy(\"date\").show(1)\n",
        "df.orderBy(desc(\"date\")).show(1)"
      ],
      "metadata": {
        "colab": {
          "base_uri": "https://localhost:8080/"
        },
        "id": "tX1XpBXngHW6",
        "outputId": "0897c9c5-34f8-4c09-b2c6-fc388faa0637"
      },
      "execution_count": 18,
      "outputs": [
        {
          "output_type": "stream",
          "name": "stdout",
          "text": [
            "+----------+----------+------------------+------------------+-----------------+\n",
            "|station_id|      date|       temperature|     precipitation|       wind_speed|\n",
            "+----------+----------+------------------+------------------+-----------------+\n",
            "| station_6|2018-01-02|29.741063952729462|22.192959421065055|9.566709633411117|\n",
            "+----------+----------+------------------+------------------+-----------------+\n",
            "only showing top 1 row\n",
            "\n",
            "+----------+----------+-------------------+-----------------+-----------------+\n",
            "|station_id|      date|        temperature|    precipitation|       wind_speed|\n",
            "+----------+----------+-------------------+-----------------+-----------------+\n",
            "| station_5|2023-12-31|-16.535536887849574|47.67675489257544|6.997087683617089|\n",
            "+----------+----------+-------------------+-----------------+-----------------+\n",
            "only showing top 1 row\n",
            "\n"
          ]
        }
      ]
    },
    {
      "cell_type": "code",
      "source": [
        "#result 3.1\n",
        "df.orderBy(desc(\"temperature\")).select(\"date\", \"temperature\").show(5)"
      ],
      "metadata": {
        "colab": {
          "base_uri": "https://localhost:8080/"
        },
        "id": "thbSzg40gAOn",
        "outputId": "30e45e94-1fc7-42f8-9819-dde7036fbfef"
      },
      "execution_count": 19,
      "outputs": [
        {
          "output_type": "stream",
          "name": "stdout",
          "text": [
            "+----------+------------------+\n",
            "|      date|       temperature|\n",
            "+----------+------------------+\n",
            "|2021-08-20|39.982828249354846|\n",
            "|2023-12-02| 39.96797489293784|\n",
            "|2022-03-28|  39.8246894248997|\n",
            "|2019-02-11| 39.76737697836647|\n",
            "|2020-06-10| 39.69147838355929|\n",
            "+----------+------------------+\n",
            "only showing top 5 rows\n",
            "\n"
          ]
        }
      ]
    },
    {
      "cell_type": "code",
      "source": [
        "#result 3.2\n",
        "df_last_year = df.filter(year(\"date\") == 2023)\n",
        "df_precipitation_gpby = df_last_year.groupBy(\"station_id\").agg(sum(\"precipitation\").alias(\"total_precipitation\"))\n",
        "df_precipitation_gpby.orderBy(desc(\"total_precipitation\")).show(1)\n"
      ],
      "metadata": {
        "colab": {
          "base_uri": "https://localhost:8080/"
        },
        "id": "_r_YOpkoh9Yc",
        "outputId": "4e462022-17a3-44fd-bf42-1cabc82dd185"
      },
      "execution_count": 20,
      "outputs": [
        {
          "output_type": "stream",
          "name": "stdout",
          "text": [
            "+----------+-------------------+\n",
            "|station_id|total_precipitation|\n",
            "+----------+-------------------+\n",
            "| station_5|  642.9302626767898|\n",
            "+----------+-------------------+\n",
            "only showing top 1 row\n",
            "\n"
          ]
        }
      ]
    },
    {
      "cell_type": "code",
      "source": [
        "#result 3.3\n",
        "df.groupBy(month(\"date\")).agg(avg(\"temperature\")).orderBy(month(\"date\")).show(20)"
      ],
      "metadata": {
        "id": "bao4dUDRj23E",
        "colab": {
          "base_uri": "https://localhost:8080/"
        },
        "outputId": "eae52c58-a385-4273-e4ba-5f772a37c127"
      },
      "execution_count": 23,
      "outputs": [
        {
          "output_type": "stream",
          "name": "stdout",
          "text": [
            "+-----------+------------------+\n",
            "|month(date)|  avg(temperature)|\n",
            "+-----------+------------------+\n",
            "|          1|11.356518462550754|\n",
            "|          2| 9.067229891101926|\n",
            "|          3| 7.244080205633994|\n",
            "|          4|12.024529009744693|\n",
            "|          5| 9.902883346912718|\n",
            "|          6|13.421092297254138|\n",
            "|          7|6.1857183016954576|\n",
            "|          8|  10.9678002814186|\n",
            "|          9| 9.596744236573942|\n",
            "|         10|  9.09884344821895|\n",
            "|         11| 7.265889994697494|\n",
            "|         12|11.218592100674337|\n",
            "+-----------+------------------+\n",
            "\n"
          ]
        }
      ]
    },
    {
      "cell_type": "code",
      "source": [
        "spark.stop()"
      ],
      "metadata": {
        "id": "WV7-k11QrhIj"
      },
      "execution_count": null,
      "outputs": []
    }
  ]
}